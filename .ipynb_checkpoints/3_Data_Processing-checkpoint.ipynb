{
 "cells": [
  {
   "cell_type": "markdown",
   "metadata": {},
   "source": [
    "# Stage 3: Data Processing <a class=\"anchor\" id=\"top\"></a>\n",
    "\n",
    "Now that we have completed our Exploratory Data Analysis (EDA), let us process and prepare our data set for training. \n",
    "\n",
    "### Navigation\n",
    "> ### [1. Checking Class Distribution of Delayed Flights To Non-Delayed Flights](#first-bullet)\n",
    "> ### [2. Employing Resampling Techniques](#second-bullet)\n",
    "> ### [3. Encoding Categorical Variables](#third-bullet)\n",
    "> ### [4. Exporting CSV](#fourth-bullet)\n"
   ]
  },
  {
   "cell_type": "markdown",
   "metadata": {},
   "source": [
    "---\n",
    "\n",
    "### Essential Libraries\n",
    "\n",
    "Let us import the necessary Python libraries.\n",
    "\n",
    "> Pandas : Library for Data Acquisition and Preparation  \n",
    "> Matplotlib : Low-level library for Data Visualization  "
   ]
  },
  {
   "cell_type": "code",
   "execution_count": 1,
   "metadata": {},
   "outputs": [],
   "source": [
    "import pandas as pd\n",
    "import matplotlib.pyplot as plt\n",
    "randomStateNumber = 1"
   ]
  },
  {
   "cell_type": "markdown",
   "metadata": {},
   "source": [
    "Here, we have a helper function `printClassBalance` to show the class distribution of delayed and non-delayed flights."
   ]
  },
  {
   "cell_type": "code",
   "execution_count": 2,
   "metadata": {},
   "outputs": [],
   "source": [
    "# Prints the frequency and percentage\n",
    "def printClassBalance(col):\n",
    "    col = col.rename(index={0.0: 'Non-Delayed', 1.0: 'Delayed'})   \n",
    "    class_counts = col.value_counts()\n",
    "    class_percentages = col.value_counts(normalize=True) * 100\n",
    "    print(\"Shape: \", col.shape)\n",
    "    print(class_counts)\n",
    "    print(class_percentages)\n",
    "    plt.figure(figsize=(8, 6))\n",
    "\n",
    "    bars = plt.bar(['Non Delayed Flight', 'Delayed Flight'], class_percentages, color=['lightblue', 'salmon'])\n",
    "\n",
    "    # Displaying count numbers on top of each ba\n",
    "    i = 0\n",
    "    for rect in bars:\n",
    "        plt.text(rect.get_x() + rect.get_width() * 0.50,  rect.get_height() * 0.50, str(class_percentages[i]), ha='center')\n",
    "        i+=1\n",
    "    plt.title('Percentage Distribution of Delayed vs Non-Delayed Flights')\n",
    "    plt.xlabel('Total Flights')\n",
    "    plt.ylabel('Percentage (%)')\n",
    "    plt.show()"
   ]
  },
  {
   "cell_type": "markdown",
   "metadata": {},
   "source": [
    "Here, we read the dataset `cleaned_dataset.csv` that has cleaned up previously in our EDA, with NAN values and outliers removed and select features that we have identified previously.\n",
    "\n",
    "**Features (7)**\n",
    "> DayOfMonth : Categorical   \n",
    "> DayOfWeek : Categorical    \n",
    "> Operating_Airline : Categorical   \n",
    "> Origin : Categorical    \n",
    "> Dest : Categorical   \n",
    "> DistanceGroup : Categorical   \n",
    "> Hour : Categorical (Extracted from CRSDepTime)   \n",
    "\n",
    "**Labels**\n",
    "> DepDelay15 : 1 (Delayed) or 0 (Non-Delayed)  "
   ]
  },
  {
   "cell_type": "code",
   "execution_count": 3,
   "metadata": {},
   "outputs": [
    {
     "data": {
      "text/html": [
       "<div>\n",
       "<style scoped>\n",
       "    .dataframe tbody tr th:only-of-type {\n",
       "        vertical-align: middle;\n",
       "    }\n",
       "\n",
       "    .dataframe tbody tr th {\n",
       "        vertical-align: top;\n",
       "    }\n",
       "\n",
       "    .dataframe thead th {\n",
       "        text-align: right;\n",
       "    }\n",
       "</style>\n",
       "<table border=\"1\" class=\"dataframe\">\n",
       "  <thead>\n",
       "    <tr style=\"text-align: right;\">\n",
       "      <th></th>\n",
       "      <th>DayOfMonth</th>\n",
       "      <th>DayOfWeek</th>\n",
       "      <th>OperatingAirline</th>\n",
       "      <th>Origin</th>\n",
       "      <th>Dest</th>\n",
       "      <th>DistanceGroup</th>\n",
       "      <th>Hour</th>\n",
       "      <th>DepDel15</th>\n",
       "    </tr>\n",
       "  </thead>\n",
       "  <tbody>\n",
       "    <tr>\n",
       "      <th>0</th>\n",
       "      <td>19</td>\n",
       "      <td>2</td>\n",
       "      <td>OH</td>\n",
       "      <td>DCA</td>\n",
       "      <td>TUL</td>\n",
       "      <td>5</td>\n",
       "      <td>20</td>\n",
       "      <td>0.0</td>\n",
       "    </tr>\n",
       "    <tr>\n",
       "      <th>1</th>\n",
       "      <td>20</td>\n",
       "      <td>3</td>\n",
       "      <td>OH</td>\n",
       "      <td>DCA</td>\n",
       "      <td>TUL</td>\n",
       "      <td>5</td>\n",
       "      <td>20</td>\n",
       "      <td>1.0</td>\n",
       "    </tr>\n",
       "    <tr>\n",
       "      <th>2</th>\n",
       "      <td>21</td>\n",
       "      <td>4</td>\n",
       "      <td>OH</td>\n",
       "      <td>DCA</td>\n",
       "      <td>TUL</td>\n",
       "      <td>5</td>\n",
       "      <td>20</td>\n",
       "      <td>0.0</td>\n",
       "    </tr>\n",
       "    <tr>\n",
       "      <th>3</th>\n",
       "      <td>24</td>\n",
       "      <td>7</td>\n",
       "      <td>OH</td>\n",
       "      <td>DCA</td>\n",
       "      <td>TUL</td>\n",
       "      <td>5</td>\n",
       "      <td>20</td>\n",
       "      <td>0.0</td>\n",
       "    </tr>\n",
       "    <tr>\n",
       "      <th>4</th>\n",
       "      <td>26</td>\n",
       "      <td>2</td>\n",
       "      <td>OH</td>\n",
       "      <td>DCA</td>\n",
       "      <td>TUL</td>\n",
       "      <td>5</td>\n",
       "      <td>20</td>\n",
       "      <td>0.0</td>\n",
       "    </tr>\n",
       "    <tr>\n",
       "      <th>5</th>\n",
       "      <td>27</td>\n",
       "      <td>3</td>\n",
       "      <td>OH</td>\n",
       "      <td>DCA</td>\n",
       "      <td>TUL</td>\n",
       "      <td>5</td>\n",
       "      <td>20</td>\n",
       "      <td>0.0</td>\n",
       "    </tr>\n",
       "    <tr>\n",
       "      <th>6</th>\n",
       "      <td>28</td>\n",
       "      <td>4</td>\n",
       "      <td>OH</td>\n",
       "      <td>DCA</td>\n",
       "      <td>TUL</td>\n",
       "      <td>5</td>\n",
       "      <td>20</td>\n",
       "      <td>0.0</td>\n",
       "    </tr>\n",
       "    <tr>\n",
       "      <th>7</th>\n",
       "      <td>31</td>\n",
       "      <td>7</td>\n",
       "      <td>OH</td>\n",
       "      <td>DCA</td>\n",
       "      <td>TUL</td>\n",
       "      <td>5</td>\n",
       "      <td>20</td>\n",
       "      <td>0.0</td>\n",
       "    </tr>\n",
       "    <tr>\n",
       "      <th>8</th>\n",
       "      <td>1</td>\n",
       "      <td>5</td>\n",
       "      <td>OH</td>\n",
       "      <td>CLT</td>\n",
       "      <td>SGF</td>\n",
       "      <td>3</td>\n",
       "      <td>16</td>\n",
       "      <td>0.0</td>\n",
       "    </tr>\n",
       "    <tr>\n",
       "      <th>9</th>\n",
       "      <td>2</td>\n",
       "      <td>6</td>\n",
       "      <td>OH</td>\n",
       "      <td>CLT</td>\n",
       "      <td>SGF</td>\n",
       "      <td>3</td>\n",
       "      <td>16</td>\n",
       "      <td>0.0</td>\n",
       "    </tr>\n",
       "  </tbody>\n",
       "</table>\n",
       "</div>"
      ],
      "text/plain": [
       "   DayOfMonth  DayOfWeek OperatingAirline Origin Dest  DistanceGroup  Hour  \\\n",
       "0          19          2               OH    DCA  TUL              5    20   \n",
       "1          20          3               OH    DCA  TUL              5    20   \n",
       "2          21          4               OH    DCA  TUL              5    20   \n",
       "3          24          7               OH    DCA  TUL              5    20   \n",
       "4          26          2               OH    DCA  TUL              5    20   \n",
       "5          27          3               OH    DCA  TUL              5    20   \n",
       "6          28          4               OH    DCA  TUL              5    20   \n",
       "7          31          7               OH    DCA  TUL              5    20   \n",
       "8           1          5               OH    CLT  SGF              3    16   \n",
       "9           2          6               OH    CLT  SGF              3    16   \n",
       "\n",
       "   DepDel15  \n",
       "0       0.0  \n",
       "1       1.0  \n",
       "2       0.0  \n",
       "3       0.0  \n",
       "4       0.0  \n",
       "5       0.0  \n",
       "6       0.0  \n",
       "7       0.0  \n",
       "8       0.0  \n",
       "9       0.0  "
      ]
     },
     "execution_count": 3,
     "metadata": {},
     "output_type": "execute_result"
    }
   ],
   "source": [
    "# Read data\n",
    "df = pd.read_csv('data/cleaned_dataset.csv')\n",
    "\n",
    "# All features fed into the training model\n",
    "features = ['DayOfMonth','DayOfWeek', 'OperatingAirline', 'Origin', 'Dest', 'DistanceGroup', 'Hour']\n",
    "\n",
    "# All categorical features that has to be encoded.\n",
    "categorical_features = ['DayOfMonth','DayOfWeek', 'OperatingAirline', 'Origin', 'Dest', 'DistanceGroup', 'Hour']\n",
    "label = \"DepDel15\"\n",
    "\n",
    "\n",
    "df_features = df[features]\n",
    "df_labels = df[[label]]\n",
    "df_input = pd.concat([df_features, df_labels], axis=1)\n",
    "\n",
    "df_input.head(10)"
   ]
  },
  {
   "cell_type": "markdown",
   "metadata": {},
   "source": [
    "---"
   ]
  },
  {
   "cell_type": "markdown",
   "metadata": {},
   "source": [
    "## 1. Checking Class Distribution of Delayed and Non-Delayed Flights <a class=\"anchor\" id=\"first-bullet\"></a>"
   ]
  },
  {
   "cell_type": "code",
   "execution_count": 4,
   "metadata": {},
   "outputs": [
    {
     "name": "stdout",
     "output_type": "stream",
     "text": [
      "Shape:  (532423, 1)\n",
      "DepDel15\n",
      "0.0         462690\n",
      "1.0          69733\n",
      "Name: count, dtype: int64\n",
      "DepDel15\n",
      "0.0         86.902707\n",
      "1.0         13.097293\n",
      "Name: proportion, dtype: float64\n"
     ]
    },
    {
     "data": {
      "image/png": "[encoded data removed]",
      "text/plain": [
       "<Figure size 800x600 with 1 Axes>"
      ]
     },
     "metadata": {},
     "output_type": "display_data"
    }
   ],
   "source": [
    "printClassBalance(df_labels)"
   ]
  },
  {
   "cell_type": "markdown",
   "metadata": {},
   "source": [
    "<div class=\"alert alert-block alert-info\">\n",
    "    The data set is <b>imbalanced!</b> We observe that <b>86.9%</b> of the flights are non-delayed and only <b>13.1%</b> of flights are delayed.\n",
    "\n",
    "Total: 532423 (100.0%)<br>\n",
    "Delayed: 462690 (86.9%)<br>\n",
    "Non-Delayed: 69733 (13.1%)\n",
    "</div>\n"
   ]
  },
  {
   "cell_type": "markdown",
   "metadata": {},
   "source": [
    "Having an imbalanced dataset could lead to bias towards the majority class as high accuracy could be achieved simply by predicting the majority class most or all of the time, ignoring the minority class completely, also known as `majority class bias`.\n",
    "\n",
    "While there are training models that are more robust to class imbalance, models trained on such data could have poor generalisation as well. \n",
    "\n",
    "To test out our hypothesis, we will export two versions of the dataset, one with resampling and another without and train models on both.\n",
    "\n",
    "For resampling, we could employ techniques like `DownSampling` and `RandomOversampling`. Given that our dataset already has `532423 entries`, we decide to employ `DownSampling` as we will still have a substantial amount of data remaining for the model to train on without fear of losing meaningful information, while reducing the complexity of the model."
   ]
  },
  {
   "cell_type": "markdown",
   "metadata": {},
   "source": [
    "---"
   ]
  },
  {
   "cell_type": "markdown",
   "metadata": {},
   "source": [
    "## 2. Balancing Dataset via DownSampling (prune majority classes) <a class=\"anchor\" id=\"second-bullet\"></a> "
   ]
  },
  {
   "cell_type": "markdown",
   "metadata": {},
   "source": [
    "To address the imbalanced data set, we employ `DownSampling` to prune the majority class. This ensures a balanced data set for our AI models to train on."
   ]
  },
  {
   "cell_type": "code",
   "execution_count": 5,
   "metadata": {},
   "outputs": [
    {
     "name": "stdout",
     "output_type": "stream",
     "text": [
      "Shape:  (139466,)\n",
      "DepDel15\n",
      "1.0    69733\n",
      "0.0    69733\n",
      "Name: count, dtype: int64\n",
      "DepDel15\n",
      "1.0    50.0\n",
      "0.0    50.0\n",
      "Name: proportion, dtype: float64\n"
     ]
    },
    {
     "data": {
      "image/png": "[encoded data removed]",
      "text/plain": [
       "<Figure size 800x600 with 1 Axes>"
      ]
     },
     "metadata": {},
     "output_type": "display_data"
    }
   ],
   "source": [
    "delayed = df_input[df[label] == 1.0]\n",
    "not_delayed = df_input[df[label] == 0.0]\n",
    "\n",
    "# Downsample the majority class ('not_delayed') to match the minority class ('delayed')\n",
    "not_delayed_downsampled = not_delayed.sample(n=len(delayed), random_state=randomStateNumber)\n",
    "\n",
    "# Concatenate the downsampled majority class with the minority class\n",
    "df_downsampled = pd.concat([not_delayed_downsampled, delayed])\n",
    "\n",
    "# Shuffle the resulting DataFrame to randomize the order of rows\n",
    "df_downsampled = df_downsampled.sample(frac=1, random_state=randomStateNumber).reset_index(drop=True)\n",
    "\n",
    "printClassBalance(df_downsampled[label])"
   ]
  },
  {
   "cell_type": "markdown",
   "metadata": {},
   "source": [
    "<div class=\"alert alert-block alert-success\">\n",
    "    The dataset is now balanced to <b>50%</b> with <b>69733</b> entries each in delayed and non-delayed by pruning the non-delayed flights.\n",
    "\n",
    "Total: 139466 (100.0%)<br>\n",
    "Delayed: 69733 (50.0%)<br>\n",
    "Non-Delayed: 69733 (50.0%)\n",
    "</div>"
   ]
  },
  {
   "cell_type": "markdown",
   "metadata": {},
   "source": [
    "---"
   ]
  },
  {
   "cell_type": "markdown",
   "metadata": {},
   "source": [
    "## 3. Encoding Categorical Variables <a class=\"anchor\" id=\"third-bullet\"></a>"
   ]
  },
  {
   "cell_type": "markdown",
   "metadata": {},
   "source": [
    "To feed categorical variables into our model meaningfully, we have to first convert it into numerical format. \n",
    "\n",
    "The top 2 common ways of encoding are `One-Hot Encoding` and `Ordinal Encoding`.\n",
    "\n",
    "`One-Hot Encoding` represents each category as a binary vector where each dimension corresponds to a category, and only one dimension is \"hot\" (1) while the others are \"cold\" (0). \n",
    "\n",
    "`Ordinal Encoding` assigns a unique integer to each category based on a certain order or hierarchy.\n",
    "\n",
    "Using `Ordinal Encoding` could **potentially introduce unintentional relationships or biases** here as the categories we have selected (DistanceGroup, Operating_Airline, Hour) are distinct and unrelated. Meaning, there isn't a prioritised `Hour` or a better `Operating_Airline` by nature. \n",
    "\n",
    "Therefore we will use `One-Hot Encoding`.\n"
   ]
  },
  {
   "cell_type": "code",
   "execution_count": 6,
   "metadata": {},
   "outputs": [],
   "source": [
    "# Define our very own one-hot-encode function\n",
    "def one_hot_encode(df_input, categorical_features):\n",
    "    all_dummies = []\n",
    "    for col in categorical_features:\n",
    "        # Generate new categories, and also prefix with the original category's label to differentiate numerical only columns\n",
    "        dummies = pd.get_dummies(df_input[col], prefix=col)\n",
    "        all_dummies.append(dummies) \n",
    "    # Drop the original category features and add the new dummy categories\n",
    "    return pd.concat([df_input] + all_dummies, axis=1).drop(columns=categorical_features)"
   ]
  },
  {
   "cell_type": "code",
   "execution_count": 7,
   "metadata": {},
   "outputs": [
    {
     "name": "stdout",
     "output_type": "stream",
     "text": [
      "Original Shape:  (532423, 8)\n",
      "Original Encoded Shape:  (532423, 831)\n",
      "Downsampled Shape:  (139466, 8)\n",
      "Downsampled Encoded Shape:  (139466, 831)\n"
     ]
    }
   ],
   "source": [
    "df_original_encoded = one_hot_encode(df_input, categorical_features)\n",
    "df_downsampled_encoded = one_hot_encode(df_downsampled, categorical_features)\n",
    "\n",
    "print(\"Original Shape: \", df_input.shape)\n",
    "print(\"Original Encoded Shape: \", df_original_encoded.shape)\n",
    "\n",
    "print(\"Downsampled Shape: \", df_downsampled.shape)\n",
    "print(\"Downsampled Encoded Shape: \", df_downsampled_encoded.shape)"
   ]
  },
  {
   "cell_type": "markdown",
   "metadata": {},
   "source": [
    "\n",
    "<div class=\"alert alert-block alert-success\">\n",
    "<b>  Success! </b> The 8 categorical columns has been one-hot encoded into 831 columns.\n",
    "</div>"
   ]
  },
  {
   "cell_type": "markdown",
   "metadata": {},
   "source": [
    "---"
   ]
  },
  {
   "cell_type": "markdown",
   "metadata": {},
   "source": [
    "## 4. Exporting CSV <a class=\"anchor\" id=\"fourth-bullet\"></a>"
   ]
  },
  {
   "cell_type": "markdown",
   "metadata": {},
   "source": [
    "Now that we have prepared our data, it is now ready to be fed to our model for training. We will compare the performance of our models on both datasets in the next section.\n",
    "\n",
    "File names:\n",
    "> Processed data without resampling: `processed_dataset.csv`   \n",
    "> Processed data with resampling: `processed_dataset_resampled.csv`   "
   ]
  },
  {
   "cell_type": "code",
   "execution_count": 8,
   "metadata": {},
   "outputs": [],
   "source": [
    "df_original_encoded.to_csv('data/processed_dataset.csv', index=False)\n",
    "df_downsampled_encoded.to_csv('data/processed_dataset_resampled.csv', index=False)"
   ]
  },
  {
   "cell_type": "markdown",
   "metadata": {},
   "source": [
    "---"
   ]
  },
  {
   "cell_type": "markdown",
   "metadata": {},
   "source": [
    "<center><h3><b>Next Chapter: Training ML Models</b></h3></center>"
   ]
  },
  {
   "cell_type": "markdown",
   "metadata": {},
   "source": [
    "<center><h3><a href=\"#top\">Scroll To Top </a></h3></center>"
   ]
  }
 ],
 "metadata": {
  "kernelspec": {
   "display_name": "Python 3 (ipykernel)",
   "language": "python",
   "name": "python3"
  },
  "language_info": {
   "codemirror_mode": {
    "name": "ipython",
    "version": 3
   },
   "file_extension": ".py",
   "mimetype": "text/x-python",
   "name": "python",
   "nbconvert_exporter": "python",
   "pygments_lexer": "ipython3",
   "version": "3.11.2"
  }
 },
 "nbformat": 4,
 "nbformat_minor": 4
}
